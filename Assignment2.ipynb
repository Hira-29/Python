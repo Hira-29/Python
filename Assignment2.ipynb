{
  "nbformat": 4,
  "nbformat_minor": 0,
  "metadata": {
    "colab": {
      "provenance": []
    },
    "kernelspec": {
      "name": "python3",
      "display_name": "Python 3"
    },
    "language_info": {
      "name": "python"
    }
  },
  "cells": [
    {
      "cell_type": "code",
      "execution_count": null,
      "metadata": {
        "id": "l8QwurUDSnZo"
      },
      "outputs": [],
      "source": []
    },
    {
      "cell_type": "markdown",
      "source": [
        "**Simple Calculator in Python**"
      ],
      "metadata": {
        "id": "_4amUOYYUjcQ"
      }
    },
    {
      "cell_type": "code",
      "source": [
        "num1 = float(input(\"Enter your first number: \"))\n",
        "num2 = float(input(\"Enter your second number:\"))\n",
        "opr = input(\"Select one of the operator to perform calculation (+,-,*,/)\")\n",
        "\n",
        "if(opr == '+'):\n",
        "   print(f\"Addition of {num1} and {num2} is :\", num1 + num2)\n",
        "\n",
        "elif(opr =='-'):\n",
        "   print(f\"Subtraction of {num1} and {num2} is : {num1 - num2}\")\n",
        "\n",
        "elif opr == '*':\n",
        "  print(f\"Multiplication of {num1} and {num2} is : {num1 * num2}\")\n",
        "\n",
        "elif opr == '/':\n",
        "  print(f\"Division of {num1} and {num2} is : {num1 / num2}\")\n",
        "\n",
        "else:\n",
        "  print(\"Invalid operator\")\n",
        "\n"
      ],
      "metadata": {
        "colab": {
          "base_uri": "https://localhost:8080/"
        },
        "id": "tTier20WU6nL",
        "outputId": "2c5a33c0-e96c-4e25-f29a-bbb83ab87c2f"
      },
      "execution_count": null,
      "outputs": [
        {
          "output_type": "stream",
          "name": "stdout",
          "text": [
            "Enter your first number: 8\n",
            "Enter your second number:3\n",
            "Select one of the operator to perform calculation (+,-,*,/)-\n",
            "Subtraction of 8.0 and 3.0 is : 5.0\n"
          ]
        }
      ]
    },
    {
      "cell_type": "markdown",
      "source": [
        "**Grading System**"
      ],
      "metadata": {
        "id": "Nwuh2nGlqLhs"
      }
    },
    {
      "cell_type": "code",
      "source": [
        "marks= int(input(\"Enter your marks: \"))\n",
        "if(marks>=80):\n",
        "  print(\"Grade A+\")\n",
        "elif(marks>=70):\n",
        "    print(\"Grade A\")\n",
        "elif(marks>=60):\n",
        "    print(\"Grade B\")\n",
        "elif(marks>=50):\n",
        "      print(\"Grade C\")\n",
        "elif(marks>=40):\n",
        "      print(\"Grade D\")\n",
        "else:\n",
        "      print(\"Fail\")"
      ],
      "metadata": {
        "colab": {
          "base_uri": "https://localhost:8080/"
        },
        "id": "tbxc3yx1qakj",
        "outputId": "3b25aeb5-9765-4508-ddcf-6ac2c60f2865"
      },
      "execution_count": null,
      "outputs": [
        {
          "output_type": "stream",
          "name": "stdout",
          "text": [
            "Enter your marks: 79\n",
            "Grade A\n"
          ]
        }
      ]
    }
  ]
}