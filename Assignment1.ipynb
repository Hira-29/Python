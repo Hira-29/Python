{
  "nbformat": 4,
  "nbformat_minor": 0,
  "metadata": {
    "colab": {
      "provenance": []
    },
    "kernelspec": {
      "name": "python3",
      "display_name": "Python 3"
    },
    "language_info": {
      "name": "python"
    }
  },
  "cells": [
    {
      "cell_type": "markdown",
      "source": [
        "# **Part 1: String Literals**"
      ],
      "metadata": {
        "id": "wtHp7pIdRfsI"
      }
    },
    {
      "cell_type": "code",
      "execution_count": null,
      "metadata": {
        "colab": {
          "base_uri": "https://localhost:8080/"
        },
        "id": "3BVOl3bq7enk",
        "outputId": "49336eda-053d-451f-88ff-77194e9d3ec5"
      },
      "outputs": [
        {
          "output_type": "stream",
          "name": "stdout",
          "text": [
            "Hello World\n",
            "Hello World\n",
            "Hello world\n"
          ]
        }
      ],
      "source": [
        "str1='Hello World'\n",
        "str2=\"Hello World\"\n",
        "str3='''Hello world'''\n",
        "print(str1)\n",
        "print(str2)\n",
        "print(str3)"
      ]
    },
    {
      "cell_type": "markdown",
      "source": [
        "Advantage of each quotation:\n",
        "\n",
        "single quote:  Typing single quote is Faster than double quote.\n",
        "\n",
        "double quote:  use by convention,\n",
        "               more readable when dealing with paragraph\n",
        "               \n",
        "triple quotes: we use it for multi-line text including single or double quotes.\n",
        "\n",
        "          \n"
      ],
      "metadata": {
        "id": "DHRm5z33_fJG"
      }
    },
    {
      "cell_type": "code",
      "source": [
        "message=\"She said,\\\"I'm going to the store.\"\n",
        "print(message)"
      ],
      "metadata": {
        "colab": {
          "base_uri": "https://localhost:8080/"
        },
        "id": "C-wBarj7CJSk",
        "outputId": "8feb06d2-c6cf-494b-c4d3-61f82676a144"
      },
      "execution_count": null,
      "outputs": [
        {
          "output_type": "stream",
          "name": "stdout",
          "text": [
            "She said,\"I'am going to the store.\n"
          ]
        }
      ]
    },
    {
      "cell_type": "code",
      "source": [
        "message='She said,\"I\\'m going to the store.\"'\n",
        "print(message)\n"
      ],
      "metadata": {
        "colab": {
          "base_uri": "https://localhost:8080/"
        },
        "id": "IDW2-7xjEg2p",
        "outputId": "f52996d4-f2a4-428c-da0e-c25e1b87372b"
      },
      "execution_count": null,
      "outputs": [
        {
          "output_type": "stream",
          "name": "stdout",
          "text": [
            "She said,\"I'm going to the store.\"\n"
          ]
        }
      ]
    },
    {
      "cell_type": "code",
      "source": [],
      "metadata": {
        "id": "lW9SKN_OB25n"
      },
      "execution_count": null,
      "outputs": []
    },
    {
      "cell_type": "markdown",
      "source": [
        "Create a multi-line string with triple quotes\n",
        "\n",
        "**My Favourite Hobby**"
      ],
      "metadata": {
        "id": "zop3KSbiNMcX"
      }
    },
    {
      "cell_type": "code",
      "source": [
        "str='''My Favourite Hobby\n",
        "Hobbies are essential for personal growth and relaxation.\n",
        "Reading is my favourite hobby.\n",
        "It allows me to explore new world and gain knowledge.'''\n",
        "print(str)\n"
      ],
      "metadata": {
        "colab": {
          "base_uri": "https://localhost:8080/"
        },
        "id": "NYpyzPriNVVF",
        "outputId": "fbb711da-f262-4bbd-b9d9-d45f3be778c5"
      },
      "execution_count": null,
      "outputs": [
        {
          "output_type": "stream",
          "name": "stdout",
          "text": [
            "My Favourite Hobby\n",
            "Hobbies are essential for personal growth and relaxation.\n",
            "Reading is my favourite hobby.\n",
            "It allows me to explore new world and gain knowledge.\n"
          ]
        }
      ]
    },
    {
      "cell_type": "markdown",
      "source": [
        "# **Part 2: String Methods**"
      ],
      "metadata": {
        "id": "QcO5Cj7lRvqN"
      }
    },
    {
      "cell_type": "code",
      "source": [
        "first_name=\"Hira\"\n",
        "last_name=\"Shakir\"\n",
        "full_name = first_name + \" \" + last_name\n",
        "print(full_name.upper())\n",
        "print(full_name.lower())\n",
        "print(full_name.title())"
      ],
      "metadata": {
        "colab": {
          "base_uri": "https://localhost:8080/"
        },
        "id": "zt4Jcrn8R3XN",
        "outputId": "cfb186ae-96fa-4a17-9a03-978d8c127db7"
      },
      "execution_count": null,
      "outputs": [
        {
          "output_type": "stream",
          "name": "stdout",
          "text": [
            "HIRA SHAKIR\n",
            "hira shakir\n",
            "Hira Shakir\n"
          ]
        }
      ]
    },
    {
      "cell_type": "code",
      "source": [
        "\n",
        "messy_text=\" 'Python programming is fun!'  \"\n",
        "\n",
        "print(messy_text.strip())"
      ],
      "metadata": {
        "colab": {
          "base_uri": "https://localhost:8080/"
        },
        "id": "tSgC1LugTkTS",
        "outputId": "178ad7ee-8f86-4d94-9686-2372a433053a"
      },
      "execution_count": null,
      "outputs": [
        {
          "output_type": "stream",
          "name": "stdout",
          "text": [
            "'Python programming is fun!'\n"
          ]
        }
      ]
    },
    {
      "cell_type": "code",
      "source": [
        "print(messy_text.replace(\"fun\",\"amazing\"))"
      ],
      "metadata": {
        "colab": {
          "base_uri": "https://localhost:8080/"
        },
        "id": "RqVzw00mUz2Y",
        "outputId": "4fe455e6-4e53-427a-fd6b-5d745bca6190"
      },
      "execution_count": null,
      "outputs": [
        {
          "output_type": "stream",
          "name": "stdout",
          "text": [
            "   'Python programming is amazing!'   \n"
          ]
        }
      ]
    },
    {
      "cell_type": "code",
      "source": [
        "print(messy_text.count(\"i\"))"
      ],
      "metadata": {
        "colab": {
          "base_uri": "https://localhost:8080/"
        },
        "id": "peCn1-b3VHgP",
        "outputId": "47c2545f-35ab-4283-d2db-3ff3d95c001e"
      },
      "execution_count": null,
      "outputs": [
        {
          "output_type": "stream",
          "name": "stdout",
          "text": [
            "2\n"
          ]
        }
      ]
    },
    {
      "cell_type": "code",
      "source": [
        "sentence=\"The quick, brown fox jumps over a lazy dog\"\n",
        "print(sentence.split())\n"
      ],
      "metadata": {
        "colab": {
          "base_uri": "https://localhost:8080/"
        },
        "id": "bHnQ02C0VqRm",
        "outputId": "c561ab5c-4ca4-4820-9fa3-88385908d68f"
      },
      "execution_count": 9,
      "outputs": [
        {
          "output_type": "stream",
          "name": "stdout",
          "text": [
            "['The', 'quick,', 'brown', 'fox', 'jumps', 'over', 'a', 'lazy', 'dog']\n"
          ]
        }
      ]
    },
    {
      "cell_type": "code",
      "source": [
        "sentence=\"The quick, brown fox jumps over a lazy dog\"\n",
        "new_sentence = \"-\".join(sentence.split())\n",
        "print(new_sentence)"
      ],
      "metadata": {
        "colab": {
          "base_uri": "https://localhost:8080/"
        },
        "id": "KYRfEAyJYvO7",
        "outputId": "2d6aeb11-b4b2-4e55-8a0f-494d2c944c2b"
      },
      "execution_count": 10,
      "outputs": [
        {
          "output_type": "stream",
          "name": "stdout",
          "text": [
            "The-quick,-brown-fox-jumps-over-a-lazy-dog\n"
          ]
        }
      ]
    },
    {
      "cell_type": "code",
      "source": [
        "print(sentence.startswith(\"The\"))"
      ],
      "metadata": {
        "colab": {
          "base_uri": "https://localhost:8080/"
        },
        "id": "w7dNHfRNpdiu",
        "outputId": "45c59b58-3838-4c8d-f132-49709f4233d4"
      },
      "execution_count": 11,
      "outputs": [
        {
          "output_type": "stream",
          "name": "stdout",
          "text": [
            "True\n"
          ]
        }
      ]
    },
    {
      "cell_type": "code",
      "source": [
        "position=sentence.find(\"fox\")\n",
        "print(position)"
      ],
      "metadata": {
        "colab": {
          "base_uri": "https://localhost:8080/"
        },
        "id": "DzOsuwAcqsd8",
        "outputId": "0a12979c-42cb-4b86-ff98-f972f92672db"
      },
      "execution_count": 12,
      "outputs": [
        {
          "output_type": "stream",
          "name": "stdout",
          "text": [
            "17\n"
          ]
        }
      ]
    },
    {
      "cell_type": "markdown",
      "source": [
        "# **Part 3: F- String**"
      ],
      "metadata": {
        "id": "8R-7jTxirm1R"
      }
    },
    {
      "cell_type": "code",
      "source": [
        "name= input(\"Enter your name: \")\n",
        "age= int (input(\"Enter your age: \"))\n",
        "fav_lang=input(\"Enter your favourite language: \")\n",
        "print(f\"My name is {name} and I am {age} years old.\")\n",
        "print(f\"My favourite programming language is {fav_lang}.\")"
      ],
      "metadata": {
        "colab": {
          "base_uri": "https://localhost:8080/"
        },
        "id": "ESKUH_s8rwfR",
        "outputId": "7a4fbded-9a5b-447e-962a-7af41493a011"
      },
      "execution_count": 25,
      "outputs": [
        {
          "output_type": "stream",
          "name": "stdout",
          "text": [
            "Enter your name: Farhan\n",
            "Enter your age: 20\n",
            "Enter your favourite language: Python\n",
            "My name is Farhan and I am 20 years old.\n",
            "My favourite programming language is Python.\n"
          ]
        }
      ]
    },
    {
      "cell_type": "code",
      "source": [
        "print(f\"In five years, I will be {age + 5} years old.\")"
      ],
      "metadata": {
        "colab": {
          "base_uri": "https://localhost:8080/"
        },
        "id": "KyNBdtmJtdYn",
        "outputId": "e362b167-6885-47f4-d6c4-21239b76b0b8"
      },
      "execution_count": 26,
      "outputs": [
        {
          "output_type": "stream",
          "name": "stdout",
          "text": [
            "In five years, I will be 25 years old.\n"
          ]
        }
      ]
    },
    {
      "cell_type": "markdown",
      "source": [
        "# **Part 4 : Combining F-String with String Methods**"
      ],
      "metadata": {
        "id": "Txgg7so9v5T8"
      }
    },
    {
      "cell_type": "code",
      "source": [
        "first_name=input(\"Enter your First Name: \")\n",
        "last_name=input(\"Enter your Last Name: \")\n",
        "dob=int(input(\"Enter your Date of Birth: \"))\n",
        "age=2025-dob\n",
        "user_name=first_name.capitalize() + \" \" + last_name.capitalize()\n",
        "print(f\"Profile: \\nName: {user_name}  \\nAge: {age}\")\n"
      ],
      "metadata": {
        "colab": {
          "base_uri": "https://localhost:8080/"
        },
        "id": "C4MtgLxawJa8",
        "outputId": "c377dd3f-cc9c-4820-899d-d7460d684c13"
      },
      "execution_count": 29,
      "outputs": [
        {
          "output_type": "stream",
          "name": "stdout",
          "text": [
            "Enter your First Name: farhan\n",
            "Enter your Last Name: iqbal\n",
            "Enter your Date of Birth: 2004\n",
            "Profile: \n",
            "Name: Farhan Iqbal  \n",
            "Age: 21\n"
          ]
        }
      ]
    },
    {
      "cell_type": "code",
      "source": [
        "print(f\"Username: {user_name} + Date of Birth: {dob}\")"
      ],
      "metadata": {
        "colab": {
          "base_uri": "https://localhost:8080/"
        },
        "id": "cclm6wV6ziOR",
        "outputId": "682c9846-c5fd-4844-da72-16786f010d4d"
      },
      "execution_count": 30,
      "outputs": [
        {
          "output_type": "stream",
          "name": "stdout",
          "text": [
            "Username: Farhan Iqbal + Date of Birth: 2004\n"
          ]
        }
      ]
    }
  ]
}